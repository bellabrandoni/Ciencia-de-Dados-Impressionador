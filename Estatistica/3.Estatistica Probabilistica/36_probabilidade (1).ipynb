{
 "cells": [
  {
   "cell_type": "markdown",
   "metadata": {},
   "source": [
    "# Probabilidade e Distribuições"
   ]
  },
  {
   "cell_type": "markdown",
   "metadata": {},
   "source": [
    "## Conceitos básicos"
   ]
  },
  {
   "cell_type": "markdown",
   "metadata": {},
   "source": [
    "A maioria dos fenômenos de que trata a Estatística é de natureza aleatória ou probabilística. Em quase tudo, em maior ou menor grau, vislumbramos o acaso.\n",
    "\n",
    "Da afirmação \"é provável que meu time ganhe a partida de hoje\" pode resultar:\n",
    "\n",
    "- que, apesar do favoritismo, ele perca;\n",
    "- que ele ganhe;\n",
    "- que empate.\n",
    "\n",
    "Fenômenos como esse são chamados de *fenômenos aleatórios* ou *experimentos aleatórios*.\n",
    "\n",
    "**Experimentos** ou **fenômenos aleatórios** são aqueles que, mesmo repetidos várias vezes sob condições semelhantes, apresentam resultados imprevisíveis.\n"
   ]
  },
  {
   "cell_type": "markdown",
   "metadata": {},
   "source": [
    "A cada experimento correspondem, em geral, vários resultados possíveis. Ao conjunto desses resultados possíveis damos o nome de **espaço amostral** ou *conjunto universo*, representado por *S*.\n",
    "\n",
    "- lançamento de uma moeda: $S = \\{ \\text{cara}, \\text{coroa} \\}$\n",
    "- lançamento de um dado: $S = \\{ 1, 2, 3, 4, 5, 6 \\}$\n",
    "\n",
    "Chamamos de **evento** qualquer subconjunto do espaço amostral *S* de um experimento aleatório. Por exemplo, $A = \\{2,4,6\\}$ é um evento de um espaço amostral de lançamento de dado."
   ]
  },
  {
   "cell_type": "markdown",
   "metadata": {},
   "source": [
    "## Conceito de probabilidade"
   ]
  },
  {
   "cell_type": "markdown",
   "metadata": {},
   "source": [
    "Chamamos de **probabilidade de um evento** A o número real $P(A)$ tal que:\n",
    "\n",
    "$$\n",
    "P(A) = \\frac{n(A)}{n(S)}\n",
    "$$\n",
    "\n",
    "onde:\n",
    "\n",
    "- $n(A)$ é o número de elementos de A\n",
    "- $n(S)$ é o número de elementos de S"
   ]
  },
  {
   "cell_type": "markdown",
   "metadata": {},
   "source": [
    "Assim, para o lançamento de uma moeda, temos $P(A) = \\frac{1}{2}$ tanto para cara, quanto para coroa. E temos $P(A) = \\frac{1}{6}$ para cada número de um dado."
   ]
  }
 ],
 "metadata": {
  "kernelspec": {
   "display_name": "Python 3 (ipykernel)",
   "language": "python",
   "name": "python3"
  },
  "language_info": {
   "codemirror_mode": {
    "name": "ipython",
    "version": 3
   },
   "file_extension": ".py",
   "mimetype": "text/x-python",
   "name": "python",
   "nbconvert_exporter": "python",
   "pygments_lexer": "ipython3",
   "version": "3.10.9"
  }
 },
 "nbformat": 4,
 "nbformat_minor": 4
}
