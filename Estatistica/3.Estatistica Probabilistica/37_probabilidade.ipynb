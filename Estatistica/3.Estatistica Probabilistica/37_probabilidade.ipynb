{
 "cells": [
  {
   "cell_type": "markdown",
   "metadata": {},
   "source": [
    "# Probabilidade e Distribuições"
   ]
  },
  {
   "cell_type": "markdown",
   "metadata": {},
   "source": [
    "## Conceitos básicos"
   ]
  },
  {
   "cell_type": "markdown",
   "metadata": {},
   "source": [
    "A maioria dos fenômenos de que trata a Estatística é de natureza aleatória ou probabilística. Em quase tudo, em maior ou menor grau, vislumbramos o acaso.\n",
    "\n",
    "Da afirmação \"é provável que meu time ganhe a partida de hoje\" pode resultar:\n",
    "\n",
    "- que, apesar do favoritismo, ele perca;\n",
    "- que ele ganhe;\n",
    "- que empate.\n",
    "\n",
    "Fenômenos como esse são chamados de *fenômenos aleatórios* ou *experimentos aleatórios*.\n",
    "\n",
    "**Experimentos** ou **fenômenos aleatórios** são aqueles que, mesmo repetidos várias vezes sob condições semelhantes, apresentam resultados imprevisíveis.\n"
   ]
  },
  {
   "cell_type": "markdown",
   "metadata": {},
   "source": [
    "A cada experimento correspondem, em geral, vários resultados possíveis. Ao conjunto desses resultados possíveis damos o nome de **espaço amostral** ou *conjunto universo*, representado por *S*.\n",
    "\n",
    "- lançamento de uma moeda: $S = \\{ \\text{cara}, \\text{coroa} \\}$\n",
    "- lançamento de um dado: $S = \\{ 1, 2, 3, 4, 5, 6 \\}$\n",
    "\n",
    "Chamamos de **evento** qualquer subconjunto do espaço amostral *S* de um experimento aleatório. Por exemplo, $A = \\{2,4,6\\}$ é um evento de um espaço amostra de lançamento de dado."
   ]
  },
  {
   "cell_type": "markdown",
   "metadata": {},
   "source": [
    "## Conceito de probabilidade"
   ]
  },
  {
   "cell_type": "markdown",
   "metadata": {},
   "source": [
    "Chamamos de **probabilidade de um evento** A o número real $P(A)$ tal que:\n",
    "\n",
    "$$\n",
    "P(A) = \\frac{n(A)}{n(S)}\n",
    "$$\n",
    "\n",
    "onde:\n",
    "\n",
    "- $n(A)$ é o número de elementos de A\n",
    "- $n(S)$ é o número de elementos de S"
   ]
  },
  {
   "cell_type": "markdown",
   "metadata": {},
   "source": [
    "Assim, para o lançamento de uma moeda, temos $P(A) = \\frac{1}{2}$ tanto para cara, quanto para coroa. E temos $P(A) = \\frac{1}{6}$ para cada número de um dado."
   ]
  },
  {
   "cell_type": "code",
   "execution_count": 22,
   "metadata": {},
   "outputs": [],
   "source": [
    "import matplotlib.pyplot as plt\n",
    "import numpy as np\n"
   ]
  },
  {
   "cell_type": "code",
   "execution_count": 23,
   "metadata": {},
   "outputs": [
    {
     "data": {
      "text/plain": [
       "array([1, 5, 4, 3, 3, 6, 1, 5, 2, 1, 4, 6, 5, 5, 5, 5, 4, 1, 6, 3, 4, 3,\n",
       "       2, 6, 5, 4, 3, 5, 4, 3, 3, 2, 1, 4, 6, 1, 6, 5, 2, 4, 1, 5, 5, 3,\n",
       "       1, 6, 3, 6, 5, 5, 5, 2, 3, 3, 3, 1, 4, 1, 5, 5, 6, 5, 3, 6, 3, 2,\n",
       "       6, 3, 1, 3, 5, 2, 3, 1, 5, 3, 2, 2, 4, 5, 6, 3, 1, 5, 4, 5, 1, 2,\n",
       "       5, 5, 3, 5, 6, 3, 6, 2, 2, 5, 4, 1])"
      ]
     },
     "execution_count": 23,
     "metadata": {},
     "output_type": "execute_result"
    }
   ],
   "source": [
    "#criando objeto gerador - numeros aleatórios - fixando a aleatoriedade com seed\n",
    "rng = np.random.default_rng(seed=42)\n",
    "\n",
    "#Numeros de 1 a 6 - indo até o 7(o ultimo é excluso), lançando os dados 100x\n",
    "\n",
    "dados = rng.integers(1, 7, size=100)\n",
    "dados\n"
   ]
  },
  {
   "cell_type": "code",
   "execution_count": 24,
   "metadata": {},
   "outputs": [
    {
     "name": "stdout",
     "output_type": "stream",
     "text": [
      "[1 2 3 4 5 6]\n",
      "[15 12 21 12 26 14]\n"
     ]
    }
   ],
   "source": [
    "# valores, contagem  - qts vezes cada um dos numeros da primeira tupla aparece (1 = 15, 2=12...)\n",
    "valores, contagem = np.unique(dados, return_counts=True)\n",
    "\n",
    "print(valores)\n",
    "print(contagem)"
   ]
  },
  {
   "cell_type": "markdown",
   "metadata": {},
   "source": [
    "- Quanto mais vezes lanço os dados, mais os resultados se aproximam de chances iguais para cada número — é a Lei dos Grandes Números em ação."
   ]
  },
  {
   "cell_type": "code",
   "execution_count": 25,
   "metadata": {},
   "outputs": [
    {
     "data": {
      "image/png": "[encoded data removed]",
      "text/plain": [
       "<Figure size 640x480 with 1 Axes>"
      ]
     },
     "metadata": {},
     "output_type": "display_data"
    }
   ],
   "source": [
    "#plotando graficos\n",
    "plt.vlines(valores, 0, contagem, linewidth=1, linestyle=\"dotted\")\n",
    "plt.scatter(valores, contagem, marker=\"o\", color=\"red\")\n",
    "\n",
    "plt.show()"
   ]
  },
  {
   "cell_type": "code",
   "execution_count": 27,
   "metadata": {},
   "outputs": [],
   "source": [
    "#criando função lancvar dados que repete o procedimento acima\n",
    "def lancar_dados(vezes):\n",
    "    rng = np.random.default_rng(seed=42)\n",
    "    dados = rng.integers(1, 7, size=vezes)\n",
    "    \n",
    "    valores, contagem = np.unique(dados, return_counts=True)\n",
    "    \n",
    "    print(valores)\n",
    "    print(contagem)\n",
    "    \n",
    "    plt.vlines(valores, 0, contagem, linewidth=1, linestyle=\"dotted\")\n",
    "    plt.scatter(valores, contagem, marker=\"o\", color=\"red\")\n",
    "    \n",
    "    plt.show()\n",
    "\n",
    "\n",
    "\n",
    "\n",
    "\n",
    "\n",
    "\n"
   ]
  },
  {
   "cell_type": "markdown",
   "metadata": {},
   "source": [
    "- Variação um pouco menor ao lançar os dados mais vezes(1.000)"
   ]
  },
  {
   "cell_type": "code",
   "execution_count": 31,
   "metadata": {},
   "outputs": [
    {
     "name": "stdout",
     "output_type": "stream",
     "text": [
      "[1 2 3 4 5 6]\n",
      "[182 152 157 173 177 159]\n"
     ]
    },
    {
     "data": {
      "image/png": "[encoded data removed]",
      "text/plain": [
       "<Figure size 640x480 with 1 Axes>"
      ]
     },
     "metadata": {},
     "output_type": "display_data"
    }
   ],
   "source": [
    "#lançando dados 1000x\n",
    "lancar_dados(1_000)\n"
   ]
  },
  {
   "cell_type": "markdown",
   "metadata": {},
   "source": [
    "- A discrepância vai acabando e a probabilidade do evento ocorrere fica mais próxima"
   ]
  },
  {
   "cell_type": "code",
   "execution_count": 32,
   "metadata": {},
   "outputs": [
    {
     "name": "stdout",
     "output_type": "stream",
     "text": [
      "[1 2 3 4 5 6]\n",
      "[1681 1718 1662 1671 1643 1625]\n"
     ]
    },
    {
     "data": {
      "image/png": "[encoded data removed]",
      "text/plain": [
       "<Figure size 640x480 with 1 Axes>"
      ]
     },
     "metadata": {},
     "output_type": "display_data"
    }
   ],
   "source": [
    "lancar_dados(10_000)"
   ]
  },
  {
   "cell_type": "markdown",
   "metadata": {},
   "source": [
    "Sabemos que um evento pode ocorrer ou não. Sendo $p$ a probabilidade de que ele ocorra (sucesso) e $q$ a probabilidade de que ele não ocorra (fracasso), para um mesmo evento existe sempre a relação:\n",
    "\n",
    "$$ p + q = 1 \\therefore q = 1- p$$\n",
    "\n",
    "Por exemplo, a probabilidade de tirar o número 4 no lançamento de um dado é $p=\\frac{1}{6}$. Portanto, a probabilidade de não tirar o número 4 é $q = 1-\\frac{1}{6} = \\frac{5}{6}$."
   ]
  }
 ],
 "metadata": {
  "kernelspec": {
   "display_name": "Python 3",
   "language": "python",
   "name": "python3"
  },
  "language_info": {
   "codemirror_mode": {
    "name": "ipython",
    "version": 3
   },
   "file_extension": ".py",
   "mimetype": "text/x-python",
   "name": "python",
   "nbconvert_exporter": "python",
   "pygments_lexer": "ipython3",
   "version": "3.11.9"
  }
 },
 "nbformat": 4,
 "nbformat_minor": 4
}
