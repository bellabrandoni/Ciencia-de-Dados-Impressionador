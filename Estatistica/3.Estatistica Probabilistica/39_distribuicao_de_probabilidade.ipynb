{
 "cells": [
  {
   "cell_type": "markdown",
   "metadata": {},
   "source": [
    "# Tipos de variáveis e distribuição de probabilidade"
   ]
  },
  {
   "cell_type": "markdown",
   "metadata": {},
   "source": [
    "**Variável aleatória discreta**: é aquela que não assume valores decimais, ou seja, é **composta exclusivamente de valores inteiros**. Exemplos: número de filhos, quantidade de pacientes por dia, quantidade de casos de doença por dia, etc.\n",
    "\n",
    "**Variável aleatória contínua**: é aquela que **pode assumir quaisquer valores contidos nos números reais**. Exemplos: distância entre cidades, salário mensal, altura da pessoa, retorno de uma ação, etc."
   ]
  },
  {
   "cell_type": "markdown",
   "metadata": {},
   "source": [
    "Considere o seguinte exemplo, com o número de acidentes diários em um estacionamento no decorrer de um mês:"
   ]
  },
  {
   "cell_type": "code",
   "execution_count": 1,
   "metadata": {},
   "outputs": [],
   "source": [
    "import pandas as pd"
   ]
  },
  {
   "cell_type": "code",
   "execution_count": 2,
   "metadata": {},
   "outputs": [
    {
     "data": {
      "text/html": [
       "<div>\n",
       "<style scoped>\n",
       "    .dataframe tbody tr th:only-of-type {\n",
       "        vertical-align: middle;\n",
       "    }\n",
       "\n",
       "    .dataframe tbody tr th {\n",
       "        vertical-align: top;\n",
       "    }\n",
       "\n",
       "    .dataframe thead th {\n",
       "        text-align: right;\n",
       "    }\n",
       "</style>\n",
       "<table border=\"1\" class=\"dataframe\">\n",
       "  <thead>\n",
       "    <tr style=\"text-align: right;\">\n",
       "      <th></th>\n",
       "      <th>acidentes</th>\n",
       "      <th>frequencias</th>\n",
       "    </tr>\n",
       "  </thead>\n",
       "  <tbody>\n",
       "    <tr>\n",
       "      <th>0</th>\n",
       "      <td>0</td>\n",
       "      <td>22</td>\n",
       "    </tr>\n",
       "    <tr>\n",
       "      <th>1</th>\n",
       "      <td>1</td>\n",
       "      <td>5</td>\n",
       "    </tr>\n",
       "    <tr>\n",
       "      <th>2</th>\n",
       "      <td>2</td>\n",
       "      <td>2</td>\n",
       "    </tr>\n",
       "    <tr>\n",
       "      <th>3</th>\n",
       "      <td>3</td>\n",
       "      <td>1</td>\n",
       "    </tr>\n",
       "  </tbody>\n",
       "</table>\n",
       "</div>"
      ],
      "text/plain": [
       "   acidentes  frequencias\n",
       "0          0           22\n",
       "1          1            5\n",
       "2          2            2\n",
       "3          3            1"
      ]
     },
     "execution_count": 2,
     "metadata": {},
     "output_type": "execute_result"
    }
   ],
   "source": [
    "\n",
    "\n",
    "df_acidentes = pd.DataFrame(\n",
    "    {\n",
    "        \"acidentes\": [0, 1, 2, 3], \n",
    "        \"frequencias\": [22, 5, 2, 1]\n",
    "    }\n",
    ")\n",
    "\n",
    "df_acidentes"
   ]
  },
  {
   "cell_type": "markdown",
   "metadata": {},
   "source": [
    "- a chance (com base nos dados observados) de ocorrer um certo número de acidentes:"
   ]
  },
  {
   "cell_type": "code",
   "execution_count": null,
   "metadata": {},
   "outputs": [
    {
     "data": {
      "text/html": [
       "<div>\n",
       "<style scoped>\n",
       "    .dataframe tbody tr th:only-of-type {\n",
       "        vertical-align: middle;\n",
       "    }\n",
       "\n",
       "    .dataframe tbody tr th {\n",
       "        vertical-align: top;\n",
       "    }\n",
       "\n",
       "    .dataframe thead th {\n",
       "        text-align: right;\n",
       "    }\n",
       "</style>\n",
       "<table border=\"1\" class=\"dataframe\">\n",
       "  <thead>\n",
       "    <tr style=\"text-align: right;\">\n",
       "      <th></th>\n",
       "      <th>acidentes</th>\n",
       "      <th>frequencias</th>\n",
       "      <th>probabilidade</th>\n",
       "    </tr>\n",
       "  </thead>\n",
       "  <tbody>\n",
       "    <tr>\n",
       "      <th>0</th>\n",
       "      <td>0</td>\n",
       "      <td>22</td>\n",
       "      <td>0.733333</td>\n",
       "    </tr>\n",
       "    <tr>\n",
       "      <th>1</th>\n",
       "      <td>1</td>\n",
       "      <td>5</td>\n",
       "      <td>0.166667</td>\n",
       "    </tr>\n",
       "    <tr>\n",
       "      <th>2</th>\n",
       "      <td>2</td>\n",
       "      <td>2</td>\n",
       "      <td>0.066667</td>\n",
       "    </tr>\n",
       "    <tr>\n",
       "      <th>3</th>\n",
       "      <td>3</td>\n",
       "      <td>1</td>\n",
       "      <td>0.033333</td>\n",
       "    </tr>\n",
       "  </tbody>\n",
       "</table>\n",
       "</div>"
      ],
      "text/plain": [
       "   acidentes  frequencias  probabilidade\n",
       "0          0           22       0.733333\n",
       "1          1            5       0.166667\n",
       "2          2            2       0.066667\n",
       "3          3            1       0.033333"
      ]
     },
     "execution_count": 3,
     "metadata": {},
     "output_type": "execute_result"
    }
   ],
   "source": [
    "#criando coluna de probabilidade para medir a probabilidade de  acidentes\n",
    "\n",
    "df_acidentes[\"probabilidade\"] = df_acidentes[\"frequencias\"] / df_acidentes[\"frequencias\"].sum()\n",
    "\n",
    "df_acidentes\n",
    "\n",
    "\n"
   ]
  },
  {
   "cell_type": "code",
   "execution_count": 4,
   "metadata": {},
   "outputs": [
    {
     "data": {
      "text/plain": [
       "np.float64(0.9999999999999999)"
      ]
     },
     "execution_count": 4,
     "metadata": {},
     "output_type": "execute_result"
    }
   ],
   "source": [
    "#somando as probabilidades para verificar\n",
    "df_acidentes[\"probabilidade\"].sum()"
   ]
  },
  {
   "cell_type": "markdown",
   "metadata": {},
   "source": [
    "Seja $X$ uma variável aleatória que pode assumir os valores $x_1, x_2, x_3, \\dots, x_n$. A cada valor $x_i$ correspondem pontos do espaço amostral. Associamos cada valor $x_i$ a probabilidade $p_i$ de ocorrência de tais pontos no espaço amostral. Logo:\n",
    "\n",
    "$$ \\sum p_i = 1 $$\n",
    "\n",
    "Os valores $x_i$ e seus correspondentes $p_i$ definem uma **distribuição de probabilidades**.\n",
    "\n",
    "Esta correspondência define uma função, onde os valores $x_i$ formam o domínio da função e os valores $p_i$, o seus conjunto imagem. Essa função é denominada **função probabilidade**:\n",
    "\n",
    "$$ f(x) = P(X=x_i) $$\n",
    "\n",
    "onde $f(x)$ é a probabilidade de $X$ assumir o valor $x_i$."
   ]
  }
 ],
 "metadata": {
  "kernelspec": {
   "display_name": "Python 3",
   "language": "python",
   "name": "python3"
  },
  "language_info": {
   "codemirror_mode": {
    "name": "ipython",
    "version": 3
   },
   "file_extension": ".py",
   "mimetype": "text/x-python",
   "name": "python",
   "nbconvert_exporter": "python",
   "pygments_lexer": "ipython3",
   "version": "3.11.9"
  }
 },
 "nbformat": 4,
 "nbformat_minor": 4
}
