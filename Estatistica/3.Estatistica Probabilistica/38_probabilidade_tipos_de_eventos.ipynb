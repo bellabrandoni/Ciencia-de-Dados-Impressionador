{
 "cells": [
  {
   "cell_type": "markdown",
   "metadata": {},
   "source": [
    "# Probabilidade e Distribuições"
   ]
  },
  {
   "cell_type": "markdown",
   "metadata": {},
   "source": [
    "## Conceitos básicos"
   ]
  },
  {
   "cell_type": "markdown",
   "metadata": {},
   "source": [
    "A maioria dos fenômenos de que trata a Estatística é de natureza aleatória ou probabilística. Em quase tudo, em maior ou menor grau, vislumbramos o acaso.\n",
    "\n",
    "Da afirmação \"é provável que meu time ganhe a partida de hoje\" pode resultar:\n",
    "\n",
    "- que, apesar do favoritismo, ele perca;\n",
    "- que ele ganhe;\n",
    "- que empate.\n",
    "\n",
    "Fenômenos como esse são chamados de *fenômenos aleatórios* ou *experimentos aleatórios*.\n",
    "\n",
    "**Experimentos** ou **fenômenos aleatórios** são aqueles que, mesmo repetidos várias vezes sob condições semelhantes, apresentam resultados imprevisíveis.\n"
   ]
  },
  {
   "cell_type": "markdown",
   "metadata": {},
   "source": [
    "A cada experimento correspondem, em geral, vários resultados possíveis. Ao conjunto desses resultados possíveis damos o nome de **espaço amostral** ou *conjunto universo*, representado por *S*.\n",
    "\n",
    "- lançamento de uma moeda: $S = \\{ \\text{cara}, \\text{coroa} \\}$\n",
    "- lançamento de um dado: $S = \\{ 1, 2, 3, 4, 5, 6 \\}$\n",
    "\n",
    "Chamamos de **evento** qualquer subconjunto do espaço amostral *S* de um experimento aleatório. Por exemplo, $A = \\{2,4,6\\}$ é um evento de um espaço amostra de lançamento de dado."
   ]
  },
  {
   "cell_type": "markdown",
   "metadata": {},
   "source": [
    "## Conceito de probabilidade"
   ]
  },
  {
   "cell_type": "markdown",
   "metadata": {},
   "source": [
    "Chamamos de **probabilidade de um evento** A o número real $P(A)$ tal que:\n",
    "\n",
    "$$\n",
    "P(A) = \\frac{n(A)}{n(S)}\n",
    "$$\n",
    "\n",
    "onde:\n",
    "\n",
    "- $n(A)$ é o número de elementos de A\n",
    "- $n(S)$ é o número de elementos de S"
   ]
  },
  {
   "cell_type": "markdown",
   "metadata": {},
   "source": [
    "Assim, para o lançamento de uma moeda, temos $P(A) = \\frac{1}{2}$ tanto para cara, quanto para coroa. E temos $P(A) = \\frac{1}{6}$ para cada número de um dado."
   ]
  },
  {
   "cell_type": "markdown",
   "metadata": {},
   "source": [
    "Sabemos que um evento pode ocorrer ou não. Sendo $p$ a probabilidade de que ele ocorra (sucesso) e $q$ a probabilidade de que ele não ocorra (fracasso), para um mesmo evento existe sempre a relação:\n",
    "\n",
    "$$ p + q = 1 \\therefore q = 1- p$$\n",
    "\n",
    "Por exemplo, a probabilidade de tirar o número 4 no lançamento de um dado é $p=\\frac{1}{6}$. Portanto, a probabilidade de não tirar o número 4 é $q = 1-\\frac{1}{6} = \\frac{5}{6}$."
   ]
  },
  {
   "cell_type": "markdown",
   "metadata": {},
   "source": [
    "## Tipos de eventos"
   ]
  },
  {
   "cell_type": "markdown",
   "metadata": {},
   "source": [
    "Dizemos que dois eventos são **independentes** quando a realização ou não-realização de um dos eventos não afeta a probabilidade da realização do outro e vice-versa.\n",
    "\n",
    "Por exemplo, quando lançamos dois dados, o resultado obtido em um deles independe do resultado obtido no outro.\n",
    "\n",
    "Se dois eventos são independentes, a probabilidade de que eles se realizem *simultaneamente* é igual ao produto das probabilidades de realização dos dois eventos.\n",
    "\n",
    "$$ p = p_1 \\times p_2 $$\n",
    "\n",
    "Por exemplo, a probabilidade de obtermos 1 no primeiro dado e 5 no segundo dado é:\n",
    "\n",
    "$$ p = \\frac{1}{6} \\times \\frac{1}{6} = \\frac{1}{36} $$"
   ]
  },
  {
   "cell_type": "markdown",
   "metadata": {},
   "source": [
    "Dizemos que dois ou mais eventos são **mutuamente exclusivos** quando a realização de um exclui a realização do(s) outros(s).\n",
    "\n",
    "No lançamento de uma moeda, o evento \"cara\" e o evento \"coroa\" são mutuamente exclusivos.\n",
    "\n",
    "Se dois eventos são mutuamente exclusivos:\n",
    "\n",
    "$$ p = p_1 + p_2 $$\n",
    "\n",
    "Por exemplo, ao lançarmos um dado, a probabilidade de tirar 3 *ou* 5 é:\n",
    "\n",
    "$$ p = \\frac{1}{6} + \\frac{1}{6} = \\frac{1}{3} $$"
   ]
  }
 ],
 "metadata": {
  "kernelspec": {
   "display_name": "Python 3 (ipykernel)",
   "language": "python",
   "name": "python3"
  },
  "language_info": {
   "codemirror_mode": {
    "name": "ipython",
    "version": 3
   },
   "file_extension": ".py",
   "mimetype": "text/x-python",
   "name": "python",
   "nbconvert_exporter": "python",
   "pygments_lexer": "ipython3",
   "version": "3.10.9"
  }
 },
 "nbformat": 4,
 "nbformat_minor": 4
}
