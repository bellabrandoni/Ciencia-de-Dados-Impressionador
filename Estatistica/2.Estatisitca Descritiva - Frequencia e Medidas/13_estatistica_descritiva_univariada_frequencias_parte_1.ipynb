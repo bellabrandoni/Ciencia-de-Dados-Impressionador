{
 "cells": [
  {
   "cell_type": "markdown",
   "metadata": {},
   "source": [
    "# Estatística descritiva univariada"
   ]
  },
  {
   "cell_type": "markdown",
   "metadata": {},
   "source": [
    "## Tabela de distribuição de frequências e representações gráficas"
   ]
  },
  {
   "cell_type": "markdown",
   "metadata": {},
   "source": [
    "As tabelas de distribuições de frequência podem ser utilizadas para representar a frequência de ocorrências de um conjunto de observações de variáveis qualitativas ou quantitativas.\n",
    "\n",
    "No caso de variáveis qualitativas, a tabela representa a frequência de ocorrências de cada categoria da variável. Para as variáveis quantitativas discretas, a frequência de ocorrências é calculada para cada valor discreto da variável. Já os dados das variáveis contínuas são agrupados inicialmente em classes, e a partir daí são calculadas as\n",
    "frequências de ocorrências para cada classe."
   ]
  },
  {
   "cell_type": "markdown",
   "metadata": {},
   "source": [
    "Uma tabela de distribuição de frequências usualmente comporta os seguintes cálculos:\n",
    "\n",
    "- Frequência absoluta (*F<sub>i</sub>*): número de ocorrências de cada elemento *i* na amostra.\n",
    "- Frequência relativa (*Fr<sub>i</sub>*): porcentagem relativa à frequência absoluta.\n",
    "- Frequência acumulada (*F<sub>ac</sub>*): soma de todas as ocorrências até o elemento analisado.\n",
    "- Frequência relativa acumulada (*Fr<sub>ac</sub>*}: porcentagem relativa à frequência acumulada (soma de todas as frequências relativas até o elemento analisado)."
   ]
  },
  {
   "cell_type": "markdown",
   "metadata": {},
   "source": [
    "#### Exemplo 1"
   ]
  },
  {
   "cell_type": "markdown",
   "metadata": {},
   "source": [
    "Um determinado hospital precisa de ao menos 60 doações de sangue por dia para manter seu estoque para transfusões. A seguinte base de dados apresenta o tipo sanguíneo para os doadores de um determinado dia. Utilizaremos tal base para construir uma tabela de distribuição de frequências."
   ]
  },
  {
   "cell_type": "code",
   "execution_count": 8,
   "metadata": {},
   "outputs": [],
   "source": [
    "import pandas as pd"
   ]
  },
  {
   "cell_type": "code",
   "execution_count": 9,
   "metadata": {
    "metadata": {}
   },
   "outputs": [
    {
     "data": {
      "text/html": [
       "<div>\n",
       "<style scoped>\n",
       "    .dataframe tbody tr th:only-of-type {\n",
       "        vertical-align: middle;\n",
       "    }\n",
       "\n",
       "    .dataframe tbody tr th {\n",
       "        vertical-align: top;\n",
       "    }\n",
       "\n",
       "    .dataframe thead th {\n",
       "        text-align: right;\n",
       "    }\n",
       "</style>\n",
       "<table border=\"1\" class=\"dataframe\">\n",
       "  <thead>\n",
       "    <tr style=\"text-align: right;\">\n",
       "      <th></th>\n",
       "      <th>donor_id</th>\n",
       "      <th>blood_type</th>\n",
       "    </tr>\n",
       "  </thead>\n",
       "  <tbody>\n",
       "    <tr>\n",
       "      <th>0</th>\n",
       "      <td>1</td>\n",
       "      <td>a+</td>\n",
       "    </tr>\n",
       "    <tr>\n",
       "      <th>1</th>\n",
       "      <td>2</td>\n",
       "      <td>a+</td>\n",
       "    </tr>\n",
       "    <tr>\n",
       "      <th>2</th>\n",
       "      <td>3</td>\n",
       "      <td>a+</td>\n",
       "    </tr>\n",
       "    <tr>\n",
       "      <th>3</th>\n",
       "      <td>4</td>\n",
       "      <td>a+</td>\n",
       "    </tr>\n",
       "    <tr>\n",
       "      <th>4</th>\n",
       "      <td>5</td>\n",
       "      <td>a+</td>\n",
       "    </tr>\n",
       "  </tbody>\n",
       "</table>\n",
       "</div>"
      ],
      "text/plain": [
       "   donor_id blood_type\n",
       "0         1         a+\n",
       "1         2         a+\n",
       "2         3         a+\n",
       "3         4         a+\n",
       "4         5         a+"
      ]
     },
     "execution_count": 9,
     "metadata": {},
     "output_type": "execute_result"
    }
   ],
   "source": [
    "\n",
    "DADOS = \"../base_de_dados/blood_donors.csv\"\n",
    "\n",
    "df = pd.read_csv(DADOS)\n",
    "\n",
    "df.head()"
   ]
  },
  {
   "cell_type": "code",
   "execution_count": 10,
   "metadata": {},
   "outputs": [
    {
     "data": {
      "text/html": [
       "<div>\n",
       "<style scoped>\n",
       "    .dataframe tbody tr th:only-of-type {\n",
       "        vertical-align: middle;\n",
       "    }\n",
       "\n",
       "    .dataframe tbody tr th {\n",
       "        vertical-align: top;\n",
       "    }\n",
       "\n",
       "    .dataframe thead th {\n",
       "        text-align: right;\n",
       "    }\n",
       "</style>\n",
       "<table border=\"1\" class=\"dataframe\">\n",
       "  <thead>\n",
       "    <tr style=\"text-align: right;\">\n",
       "      <th></th>\n",
       "      <th>donor_id</th>\n",
       "      <th>blood_type</th>\n",
       "    </tr>\n",
       "  </thead>\n",
       "  <tbody>\n",
       "    <tr>\n",
       "      <th>55</th>\n",
       "      <td>56</td>\n",
       "      <td>o+</td>\n",
       "    </tr>\n",
       "    <tr>\n",
       "      <th>56</th>\n",
       "      <td>57</td>\n",
       "      <td>o+</td>\n",
       "    </tr>\n",
       "    <tr>\n",
       "      <th>57</th>\n",
       "      <td>58</td>\n",
       "      <td>o+</td>\n",
       "    </tr>\n",
       "    <tr>\n",
       "      <th>58</th>\n",
       "      <td>59</td>\n",
       "      <td>o-</td>\n",
       "    </tr>\n",
       "    <tr>\n",
       "      <th>59</th>\n",
       "      <td>60</td>\n",
       "      <td>o-</td>\n",
       "    </tr>\n",
       "  </tbody>\n",
       "</table>\n",
       "</div>"
      ],
      "text/plain": [
       "    donor_id blood_type\n",
       "55        56         o+\n",
       "56        57         o+\n",
       "57        58         o+\n",
       "58        59         o-\n",
       "59        60         o-"
      ]
     },
     "execution_count": 10,
     "metadata": {},
     "output_type": "execute_result"
    }
   ],
   "source": [
    "#checando as 5 ultimas do df\n",
    "df.tail()"
   ]
  },
  {
   "cell_type": "code",
   "execution_count": 10,
   "metadata": {},
   "outputs": [
    {
     "name": "stdout",
     "output_type": "stream",
     "text": [
      "<class 'pandas.core.frame.DataFrame'>\n",
      "RangeIndex: 60 entries, 0 to 59\n",
      "Data columns (total 2 columns):\n",
      " #   Column      Non-Null Count  Dtype \n",
      "---  ------      --------------  ----- \n",
      " 0   donor_id    60 non-null     int64 \n",
      " 1   blood_type  60 non-null     object\n",
      "dtypes: int64(1), object(1)\n",
      "memory usage: 1.1+ KB\n"
     ]
    }
   ],
   "source": [
    "df.info()"
   ]
  },
  {
   "cell_type": "markdown",
   "metadata": {},
   "source": [
    "gerando estatísticas descritivas apenas para colunas não numéricas "
   ]
  },
  {
   "cell_type": "code",
   "execution_count": 11,
   "metadata": {},
   "outputs": [
    {
     "data": {
      "text/html": [
       "<div>\n",
       "<style scoped>\n",
       "    .dataframe tbody tr th:only-of-type {\n",
       "        vertical-align: middle;\n",
       "    }\n",
       "\n",
       "    .dataframe tbody tr th {\n",
       "        vertical-align: top;\n",
       "    }\n",
       "\n",
       "    .dataframe thead th {\n",
       "        text-align: right;\n",
       "    }\n",
       "</style>\n",
       "<table border=\"1\" class=\"dataframe\">\n",
       "  <thead>\n",
       "    <tr style=\"text-align: right;\">\n",
       "      <th></th>\n",
       "      <th>blood_type</th>\n",
       "    </tr>\n",
       "  </thead>\n",
       "  <tbody>\n",
       "    <tr>\n",
       "      <th>count</th>\n",
       "      <td>60</td>\n",
       "    </tr>\n",
       "    <tr>\n",
       "      <th>unique</th>\n",
       "      <td>8</td>\n",
       "    </tr>\n",
       "    <tr>\n",
       "      <th>top</th>\n",
       "      <td>o+</td>\n",
       "    </tr>\n",
       "    <tr>\n",
       "      <th>freq</th>\n",
       "      <td>32</td>\n",
       "    </tr>\n",
       "  </tbody>\n",
       "</table>\n",
       "</div>"
      ],
      "text/plain": [
       "       blood_type\n",
       "count          60\n",
       "unique          8\n",
       "top            o+\n",
       "freq           32"
      ]
     },
     "execution_count": 11,
     "metadata": {},
     "output_type": "execute_result"
    }
   ],
   "source": [
    "#checando coluna blood_type\n",
    "df.describe(exclude='number')"
   ]
  },
  {
   "cell_type": "markdown",
   "metadata": {},
   "source": [
    "contando a **frequência de cada valor único** na coluna `\"blood_type - do maior para o menor\""
   ]
  },
  {
   "cell_type": "code",
   "execution_count": 12,
   "metadata": {},
   "outputs": [
    {
     "data": {
      "text/plain": [
       "blood_type\n",
       "o+     32\n",
       "a+     15\n",
       "b+      6\n",
       "a-      2\n",
       "o-      2\n",
       "b-      1\n",
       "ab-     1\n",
       "ab+     1\n",
       "Name: count, dtype: int64"
      ]
     },
     "execution_count": 12,
     "metadata": {},
     "output_type": "execute_result"
    }
   ],
   "source": [
    "df['blood_type'].value_counts()"
   ]
  },
  {
   "cell_type": "markdown",
   "metadata": {},
   "source": [
    "Ordenando tipos sanguineos\n"
   ]
  },
  {
   "cell_type": "code",
   "execution_count": 13,
   "metadata": {},
   "outputs": [
    {
     "data": {
      "text/plain": [
       "blood_type\n",
       "a+     15\n",
       "a-      2\n",
       "ab+     1\n",
       "ab-     1\n",
       "b+      6\n",
       "b-      1\n",
       "o+     32\n",
       "o-      2\n",
       "Name: count, dtype: int64"
      ]
     },
     "execution_count": 13,
     "metadata": {},
     "output_type": "execute_result"
    }
   ],
   "source": [
    "df['blood_type'].value_counts().sort_index()"
   ]
  },
  {
   "cell_type": "markdown",
   "metadata": {},
   "source": [
    "analisando a distribuição de uma variável categórica (`blood_type`).\n",
    "## **📌 Resumo**\n",
    "Esse código gera uma **tabela de frequências** para a variável `\"blood_type\"` com as seguintes informações:  \n",
    "1️⃣ **Frequência absoluta**: Quantas vezes cada tipo sanguíneo aparece.  \n",
    "2️⃣ **Frequência relativa**: A porcentagem de cada tipo no total.  \n",
    "3️⃣ **Frequência acumulada**: A soma progressiva da frequência absoluta.  \n",
    "4️⃣ **Frequência relativa acumulada**: A soma progressiva da frequência relativa (sempre termina em `1.0` ou `100%`).  \n"
   ]
  },
  {
   "cell_type": "code",
   "execution_count": 14,
   "metadata": {},
   "outputs": [
    {
     "data": {
      "text/html": [
       "<div>\n",
       "<style scoped>\n",
       "    .dataframe tbody tr th:only-of-type {\n",
       "        vertical-align: middle;\n",
       "    }\n",
       "\n",
       "    .dataframe tbody tr th {\n",
       "        vertical-align: top;\n",
       "    }\n",
       "\n",
       "    .dataframe thead th {\n",
       "        text-align: right;\n",
       "    }\n",
       "</style>\n",
       "<table border=\"1\" class=\"dataframe\">\n",
       "  <thead>\n",
       "    <tr style=\"text-align: right;\">\n",
       "      <th></th>\n",
       "      <th>frequencia</th>\n",
       "      <th>frequencia_relativa</th>\n",
       "      <th>frequencia_acumulada</th>\n",
       "      <th>frequencia_relativa_acumulada</th>\n",
       "    </tr>\n",
       "    <tr>\n",
       "      <th>blood_type</th>\n",
       "      <th></th>\n",
       "      <th></th>\n",
       "      <th></th>\n",
       "      <th></th>\n",
       "    </tr>\n",
       "  </thead>\n",
       "  <tbody>\n",
       "    <tr>\n",
       "      <th>a+</th>\n",
       "      <td>15</td>\n",
       "      <td>0.250000</td>\n",
       "      <td>15</td>\n",
       "      <td>0.250000</td>\n",
       "    </tr>\n",
       "    <tr>\n",
       "      <th>a-</th>\n",
       "      <td>2</td>\n",
       "      <td>0.033333</td>\n",
       "      <td>17</td>\n",
       "      <td>0.283333</td>\n",
       "    </tr>\n",
       "    <tr>\n",
       "      <th>ab+</th>\n",
       "      <td>1</td>\n",
       "      <td>0.016667</td>\n",
       "      <td>18</td>\n",
       "      <td>0.300000</td>\n",
       "    </tr>\n",
       "    <tr>\n",
       "      <th>ab-</th>\n",
       "      <td>1</td>\n",
       "      <td>0.016667</td>\n",
       "      <td>19</td>\n",
       "      <td>0.316667</td>\n",
       "    </tr>\n",
       "    <tr>\n",
       "      <th>b+</th>\n",
       "      <td>6</td>\n",
       "      <td>0.100000</td>\n",
       "      <td>25</td>\n",
       "      <td>0.416667</td>\n",
       "    </tr>\n",
       "    <tr>\n",
       "      <th>b-</th>\n",
       "      <td>1</td>\n",
       "      <td>0.016667</td>\n",
       "      <td>26</td>\n",
       "      <td>0.433333</td>\n",
       "    </tr>\n",
       "    <tr>\n",
       "      <th>o+</th>\n",
       "      <td>32</td>\n",
       "      <td>0.533333</td>\n",
       "      <td>58</td>\n",
       "      <td>0.966667</td>\n",
       "    </tr>\n",
       "    <tr>\n",
       "      <th>o-</th>\n",
       "      <td>2</td>\n",
       "      <td>0.033333</td>\n",
       "      <td>60</td>\n",
       "      <td>1.000000</td>\n",
       "    </tr>\n",
       "  </tbody>\n",
       "</table>\n",
       "</div>"
      ],
      "text/plain": [
       "            frequencia  frequencia_relativa  frequencia_acumulada  \\\n",
       "blood_type                                                          \n",
       "a+                  15             0.250000                    15   \n",
       "a-                   2             0.033333                    17   \n",
       "ab+                  1             0.016667                    18   \n",
       "ab-                  1             0.016667                    19   \n",
       "b+                   6             0.100000                    25   \n",
       "b-                   1             0.016667                    26   \n",
       "o+                  32             0.533333                    58   \n",
       "o-                   2             0.033333                    60   \n",
       "\n",
       "            frequencia_relativa_acumulada  \n",
       "blood_type                                 \n",
       "a+                               0.250000  \n",
       "a-                               0.283333  \n",
       "ab+                              0.300000  \n",
       "ab-                              0.316667  \n",
       "b+                               0.416667  \n",
       "b-                               0.433333  \n",
       "o+                               0.966667  \n",
       "o-                               1.000000  "
      ]
     },
     "execution_count": 14,
     "metadata": {},
     "output_type": "execute_result"
    }
   ],
   "source": [
    "#inicializando um DataFrame vazio que será preenchido com as análises.\n",
    "df_analise_estatistica= pd.DataFrame()\n",
    "\n",
    "#criando colunas para analise de frequencias\n",
    "#Criando a coluna de frequência absoluta**\n",
    "# value_counts()→ Conta quantas vezes cada tipo sanguíneo aparece.  \n",
    "#.sort_index()` → Organiza os tipos sanguíneos em **ordem alfabética** para facilitar a leitura.\n",
    "df_analise_estatistica['frequencia'] =  df['blood_type'].value_counts().sort_index()\n",
    "\n",
    "#frequencia relativa(percentual) -  transformar em porcentagem  -> value_counts(normalize=True)\n",
    "#- Exemplo: Se `\"A+\"` aparece 3 vezes em um total de 6 registros, a frequência relativa será `3/6 = 0.5` (ou 50%).  \n",
    "\n",
    "df_analise_estatistica['frequencia_relativa'] = df['blood_type'].value_counts(normalize=True).sort_index()\n",
    "\n",
    "#frequencia acumulada -Ele soma cada valor com o anterior, ajudando a visualizar **quantos valores já foram contados até aquele ponto\n",
    "\n",
    "df_analise_estatistica['frequencia_acumulada'] = df_analise_estatistica['frequencia'].cumsum()\n",
    "\n",
    "#- `cumsum()` acumula os valores da **frequência relativa**.  \n",
    "#- Isso mostra **a porcentagem acumulada** dos valores já contados.  \n",
    "\n",
    "df_analise_estatistica['frequencia_relativa_acumulada'] = df_analise_estatistica['frequencia_relativa'].cumsum()\n",
    "\n",
    "df_analise_estatistica"
   ]
  },
  {
   "cell_type": "code",
   "execution_count": 15,
   "metadata": {},
   "outputs": [
    {
     "data": {
      "text/html": [
       "<div>\n",
       "<style scoped>\n",
       "    .dataframe tbody tr th:only-of-type {\n",
       "        vertical-align: middle;\n",
       "    }\n",
       "\n",
       "    .dataframe tbody tr th {\n",
       "        vertical-align: top;\n",
       "    }\n",
       "\n",
       "    .dataframe thead th {\n",
       "        text-align: right;\n",
       "    }\n",
       "</style>\n",
       "<table border=\"1\" class=\"dataframe\">\n",
       "  <thead>\n",
       "    <tr style=\"text-align: right;\">\n",
       "      <th></th>\n",
       "      <th>frequencia</th>\n",
       "      <th>frequencia_relativa</th>\n",
       "      <th>frequencia_acumulada</th>\n",
       "      <th>frequencia_relativa_acumulada</th>\n",
       "    </tr>\n",
       "    <tr>\n",
       "      <th>blood_type</th>\n",
       "      <th></th>\n",
       "      <th></th>\n",
       "      <th></th>\n",
       "      <th></th>\n",
       "    </tr>\n",
       "  </thead>\n",
       "  <tbody>\n",
       "    <tr>\n",
       "      <th>a+</th>\n",
       "      <td>15</td>\n",
       "      <td>0.250000</td>\n",
       "      <td>15</td>\n",
       "      <td>0.250000</td>\n",
       "    </tr>\n",
       "    <tr>\n",
       "      <th>a-</th>\n",
       "      <td>2</td>\n",
       "      <td>0.033333</td>\n",
       "      <td>17</td>\n",
       "      <td>0.283333</td>\n",
       "    </tr>\n",
       "    <tr>\n",
       "      <th>ab+</th>\n",
       "      <td>1</td>\n",
       "      <td>0.016667</td>\n",
       "      <td>18</td>\n",
       "      <td>0.300000</td>\n",
       "    </tr>\n",
       "    <tr>\n",
       "      <th>ab-</th>\n",
       "      <td>1</td>\n",
       "      <td>0.016667</td>\n",
       "      <td>19</td>\n",
       "      <td>0.316667</td>\n",
       "    </tr>\n",
       "    <tr>\n",
       "      <th>b+</th>\n",
       "      <td>6</td>\n",
       "      <td>0.100000</td>\n",
       "      <td>25</td>\n",
       "      <td>0.416667</td>\n",
       "    </tr>\n",
       "    <tr>\n",
       "      <th>b-</th>\n",
       "      <td>1</td>\n",
       "      <td>0.016667</td>\n",
       "      <td>26</td>\n",
       "      <td>0.433333</td>\n",
       "    </tr>\n",
       "    <tr>\n",
       "      <th>o+</th>\n",
       "      <td>32</td>\n",
       "      <td>0.533333</td>\n",
       "      <td>58</td>\n",
       "      <td>0.966667</td>\n",
       "    </tr>\n",
       "    <tr>\n",
       "      <th>o-</th>\n",
       "      <td>2</td>\n",
       "      <td>0.033333</td>\n",
       "      <td>60</td>\n",
       "      <td>1.000000</td>\n",
       "    </tr>\n",
       "  </tbody>\n",
       "</table>\n",
       "</div>"
      ],
      "text/plain": [
       "            frequencia  frequencia_relativa  frequencia_acumulada  \\\n",
       "blood_type                                                          \n",
       "a+                  15             0.250000                    15   \n",
       "a-                   2             0.033333                    17   \n",
       "ab+                  1             0.016667                    18   \n",
       "ab-                  1             0.016667                    19   \n",
       "b+                   6             0.100000                    25   \n",
       "b-                   1             0.016667                    26   \n",
       "o+                  32             0.533333                    58   \n",
       "o-                   2             0.033333                    60   \n",
       "\n",
       "            frequencia_relativa_acumulada  \n",
       "blood_type                                 \n",
       "a+                               0.250000  \n",
       "a-                               0.283333  \n",
       "ab+                              0.300000  \n",
       "ab-                              0.316667  \n",
       "b+                               0.416667  \n",
       "b-                               0.433333  \n",
       "o+                               0.966667  \n",
       "o-                               1.000000  "
      ]
     },
     "execution_count": 15,
     "metadata": {},
     "output_type": "execute_result"
    }
   ],
   "source": [
    "from funcoes_auxiliares import tabela_distribuicao_frequencias\n",
    "\n",
    "tabela_distribuicao_frequencias(df, \"blood_type\")\n"
   ]
  }
 ],
 "metadata": {
  "kernelspec": {
   "display_name": "Python 3",
   "language": "python",
   "name": "python3"
  },
  "language_info": {
   "codemirror_mode": {
    "name": "ipython",
    "version": 3
   },
   "file_extension": ".py",
   "mimetype": "text/x-python",
   "name": "python",
   "nbconvert_exporter": "python",
   "pygments_lexer": "ipython3",
   "version": "3.11.9"
  }
 },
 "nbformat": 4,
 "nbformat_minor": 4
}
