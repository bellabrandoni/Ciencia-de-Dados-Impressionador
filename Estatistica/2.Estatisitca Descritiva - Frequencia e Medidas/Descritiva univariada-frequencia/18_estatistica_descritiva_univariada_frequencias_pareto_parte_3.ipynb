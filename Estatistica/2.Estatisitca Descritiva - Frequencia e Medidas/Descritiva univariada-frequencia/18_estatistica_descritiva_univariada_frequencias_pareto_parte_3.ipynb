{
 "cells": [
  {
   "cell_type": "markdown",
   "metadata": {},
   "source": [
    "# Estatística descritiva univariada"
   ]
  },
  {
   "cell_type": "markdown",
   "metadata": {},
   "source": [
    "## Tabela de distribuição de frequências e representações gráficas"
   ]
  },
  {
   "cell_type": "markdown",
   "metadata": {},
   "source": [
    "As tabelas de distribuições de frequência podem ser utilizadas para representar a frequência de ocorrências de um conjunto de observações de variáveis qualitativas ou quantitativas.\n",
    "\n",
    "No caso de variáveis qualitativas, a tabela representa a frequência de ocorrências de cada categoria da variável. Para as variáveis quantitativas discretas, a frequência de ocorrências é calculada para cada valor discreto da variável. Já os dados das variáveis contínuas são agrupados inicialmente em classes, e a partir daí são calculadas as\n",
    "frequências de ocorrências para cada classe."
   ]
  },
  {
   "cell_type": "markdown",
   "metadata": {},
   "source": [
    "Uma tabela de distribuição de frequências usualmente comporta os seguintes cálculos:\n",
    "\n",
    "- Frequência absoluta (*F<sub>i</sub>*): número de ocorrências de cada elemento *i* na amostra.\n",
    "- Frequência relativa (*Fr<sub>i</sub>*): porcentagem relativa à frequência absoluta.\n",
    "- Frequência acumulada (*F<sub>ac</sub>*): soma de todas as ocorrências até o elemento analisado.\n",
    "- Frequência relativa acumulada (*Fr<sub>ac</sub>*}: porcentagem relativa à frequência acumulada (soma de todas as frequências relativas até o elemento analisado)."
   ]
  },
  {
   "cell_type": "markdown",
   "metadata": {},
   "source": [
    "#### Exemplo 2 - Pareto"
   ]
  },
  {
   "cell_type": "markdown",
   "metadata": {},
   "source": [
    "O diagrama de Pareto é uma das ferramentas da Qualidade e visa investigar os tipos de problemas e, consequentemente, identificar suas respectivas causas, de forma que uma ação possa ser tomada a fim de reduzi-las ou eliminá-las.\n",
    "\n",
    "O diagrama de Pareto é um gráfico de barras vertical combinado com um gráfico de linhas. As barras representam as frequências absolutas de ocorrências dos problemas e as linhas representam as frequências relativas acumuladas. Os problemas são usualmente ordenados em forma decrescente de prioridade."
   ]
  },
  {
   "cell_type": "markdown",
   "metadata": {},
   "source": [
    "Para ilustrar, usaremos uma base de dados de uma empresa fabricante de cartões de crédito. A empresa pretende reduzir o número de cartões defeituosos. O inspetor de qualidade classificou a amostra de 1.000 cartões coletada durante uma semana de produção, segundo os tipos de defeitos detectados."
   ]
  },
  {
   "cell_type": "code",
   "execution_count": 8,
   "metadata": {
    "metadata": {}
   },
   "outputs": [
    {
     "data": {
      "text/html": [
       "<div>\n",
       "<style scoped>\n",
       "    .dataframe tbody tr th:only-of-type {\n",
       "        vertical-align: middle;\n",
       "    }\n",
       "\n",
       "    .dataframe tbody tr th {\n",
       "        vertical-align: top;\n",
       "    }\n",
       "\n",
       "    .dataframe thead th {\n",
       "        text-align: right;\n",
       "    }\n",
       "</style>\n",
       "<table border=\"1\" class=\"dataframe\">\n",
       "  <thead>\n",
       "    <tr style=\"text-align: right;\">\n",
       "      <th></th>\n",
       "      <th>tipo_de_defeito</th>\n",
       "      <th>frequencia</th>\n",
       "    </tr>\n",
       "  </thead>\n",
       "  <tbody>\n",
       "    <tr>\n",
       "      <th>0</th>\n",
       "      <td>amassado</td>\n",
       "      <td>71</td>\n",
       "    </tr>\n",
       "    <tr>\n",
       "      <th>1</th>\n",
       "      <td>perfurado</td>\n",
       "      <td>28</td>\n",
       "    </tr>\n",
       "    <tr>\n",
       "      <th>2</th>\n",
       "      <td>impressao_ilegivel</td>\n",
       "      <td>12</td>\n",
       "    </tr>\n",
       "    <tr>\n",
       "      <th>3</th>\n",
       "      <td>caracteres_errados</td>\n",
       "      <td>20</td>\n",
       "    </tr>\n",
       "    <tr>\n",
       "      <th>4</th>\n",
       "      <td>numeros_errados</td>\n",
       "      <td>44</td>\n",
       "    </tr>\n",
       "    <tr>\n",
       "      <th>5</th>\n",
       "      <td>outros</td>\n",
       "      <td>6</td>\n",
       "    </tr>\n",
       "  </tbody>\n",
       "</table>\n",
       "</div>"
      ],
      "text/plain": [
       "      tipo_de_defeito  frequencia\n",
       "0            amassado          71\n",
       "1           perfurado          28\n",
       "2  impressao_ilegivel          12\n",
       "3  caracteres_errados          20\n",
       "4     numeros_errados          44\n",
       "5              outros           6"
      ]
     },
     "execution_count": 8,
     "metadata": {},
     "output_type": "execute_result"
    }
   ],
   "source": [
    "import pandas as pd\n",
    "\n",
    "DADOS = \"../base_de_dados/cartoes.csv\"\n",
    "\n",
    "df_cartoes = pd.read_csv(DADOS)\n",
    "\n",
    "df_cartoes"
   ]
  },
  {
   "cell_type": "markdown",
   "metadata": {},
   "source": [
    "Ordenando coluna de frequencia considerando todo o dataframe "
   ]
  },
  {
   "cell_type": "code",
   "execution_count": 9,
   "metadata": {},
   "outputs": [
    {
     "data": {
      "text/html": [
       "<div>\n",
       "<style scoped>\n",
       "    .dataframe tbody tr th:only-of-type {\n",
       "        vertical-align: middle;\n",
       "    }\n",
       "\n",
       "    .dataframe tbody tr th {\n",
       "        vertical-align: top;\n",
       "    }\n",
       "\n",
       "    .dataframe thead th {\n",
       "        text-align: right;\n",
       "    }\n",
       "</style>\n",
       "<table border=\"1\" class=\"dataframe\">\n",
       "  <thead>\n",
       "    <tr style=\"text-align: right;\">\n",
       "      <th></th>\n",
       "      <th>tipo_de_defeito</th>\n",
       "      <th>frequencia</th>\n",
       "    </tr>\n",
       "  </thead>\n",
       "  <tbody>\n",
       "    <tr>\n",
       "      <th>0</th>\n",
       "      <td>amassado</td>\n",
       "      <td>71</td>\n",
       "    </tr>\n",
       "    <tr>\n",
       "      <th>4</th>\n",
       "      <td>numeros_errados</td>\n",
       "      <td>44</td>\n",
       "    </tr>\n",
       "    <tr>\n",
       "      <th>1</th>\n",
       "      <td>perfurado</td>\n",
       "      <td>28</td>\n",
       "    </tr>\n",
       "    <tr>\n",
       "      <th>3</th>\n",
       "      <td>caracteres_errados</td>\n",
       "      <td>20</td>\n",
       "    </tr>\n",
       "    <tr>\n",
       "      <th>2</th>\n",
       "      <td>impressao_ilegivel</td>\n",
       "      <td>12</td>\n",
       "    </tr>\n",
       "    <tr>\n",
       "      <th>5</th>\n",
       "      <td>outros</td>\n",
       "      <td>6</td>\n",
       "    </tr>\n",
       "  </tbody>\n",
       "</table>\n",
       "</div>"
      ],
      "text/plain": [
       "      tipo_de_defeito  frequencia\n",
       "0            amassado          71\n",
       "4     numeros_errados          44\n",
       "1           perfurado          28\n",
       "3  caracteres_errados          20\n",
       "2  impressao_ilegivel          12\n",
       "5              outros           6"
      ]
     },
     "execution_count": 9,
     "metadata": {},
     "output_type": "execute_result"
    }
   ],
   "source": [
    "df_cartoes = df_cartoes.sort_values(by=\"frequencia\",ascending=False)\n",
    "\n",
    "df_cartoes"
   ]
  },
  {
   "cell_type": "markdown",
   "metadata": {},
   "source": [
    "- criando coluna de frequencia relativa, frequencia acumulada e frequencia relativa acumulada a partir da coluna de frequência"
   ]
  },
  {
   "cell_type": "code",
   "execution_count": 10,
   "metadata": {},
   "outputs": [
    {
     "data": {
      "text/html": [
       "<div>\n",
       "<style scoped>\n",
       "    .dataframe tbody tr th:only-of-type {\n",
       "        vertical-align: middle;\n",
       "    }\n",
       "\n",
       "    .dataframe tbody tr th {\n",
       "        vertical-align: top;\n",
       "    }\n",
       "\n",
       "    .dataframe thead th {\n",
       "        text-align: right;\n",
       "    }\n",
       "</style>\n",
       "<table border=\"1\" class=\"dataframe\">\n",
       "  <thead>\n",
       "    <tr style=\"text-align: right;\">\n",
       "      <th></th>\n",
       "      <th>tipo_de_defeito</th>\n",
       "      <th>frequencia</th>\n",
       "      <th>frequencia_relativa</th>\n",
       "      <th>frequencia_acumulada</th>\n",
       "      <th>frequencia_relativa_acumulada</th>\n",
       "    </tr>\n",
       "  </thead>\n",
       "  <tbody>\n",
       "    <tr>\n",
       "      <th>0</th>\n",
       "      <td>amassado</td>\n",
       "      <td>71</td>\n",
       "      <td>0.392265</td>\n",
       "      <td>71</td>\n",
       "      <td>0.392265</td>\n",
       "    </tr>\n",
       "    <tr>\n",
       "      <th>4</th>\n",
       "      <td>numeros_errados</td>\n",
       "      <td>44</td>\n",
       "      <td>0.243094</td>\n",
       "      <td>115</td>\n",
       "      <td>0.635359</td>\n",
       "    </tr>\n",
       "    <tr>\n",
       "      <th>1</th>\n",
       "      <td>perfurado</td>\n",
       "      <td>28</td>\n",
       "      <td>0.154696</td>\n",
       "      <td>143</td>\n",
       "      <td>0.790055</td>\n",
       "    </tr>\n",
       "    <tr>\n",
       "      <th>3</th>\n",
       "      <td>caracteres_errados</td>\n",
       "      <td>20</td>\n",
       "      <td>0.110497</td>\n",
       "      <td>163</td>\n",
       "      <td>0.900552</td>\n",
       "    </tr>\n",
       "    <tr>\n",
       "      <th>2</th>\n",
       "      <td>impressao_ilegivel</td>\n",
       "      <td>12</td>\n",
       "      <td>0.066298</td>\n",
       "      <td>175</td>\n",
       "      <td>0.966851</td>\n",
       "    </tr>\n",
       "    <tr>\n",
       "      <th>5</th>\n",
       "      <td>outros</td>\n",
       "      <td>6</td>\n",
       "      <td>0.033149</td>\n",
       "      <td>181</td>\n",
       "      <td>1.000000</td>\n",
       "    </tr>\n",
       "  </tbody>\n",
       "</table>\n",
       "</div>"
      ],
      "text/plain": [
       "      tipo_de_defeito  frequencia  frequencia_relativa  frequencia_acumulada  \\\n",
       "0            amassado          71             0.392265                    71   \n",
       "4     numeros_errados          44             0.243094                   115   \n",
       "1           perfurado          28             0.154696                   143   \n",
       "3  caracteres_errados          20             0.110497                   163   \n",
       "2  impressao_ilegivel          12             0.066298                   175   \n",
       "5              outros           6             0.033149                   181   \n",
       "\n",
       "   frequencia_relativa_acumulada  \n",
       "0                       0.392265  \n",
       "4                       0.635359  \n",
       "1                       0.790055  \n",
       "3                       0.900552  \n",
       "2                       0.966851  \n",
       "5                       1.000000  "
      ]
     },
     "execution_count": 10,
     "metadata": {},
     "output_type": "execute_result"
    }
   ],
   "source": [
    "df_cartoes['frequencia_relativa'] = df_cartoes[\"frequencia\"] / df_cartoes['frequencia'].sum()\n",
    "df_cartoes['frequencia_acumulada'] = df_cartoes['frequencia'].cumsum()\n",
    "df_cartoes['frequencia_relativa_acumulada'] = df_cartoes['frequencia_relativa'].cumsum()\n",
    "\n",
    "df_cartoes"
   ]
  },
  {
   "cell_type": "markdown",
   "metadata": {},
   "source": [
    "- Recriando dataframe \n",
    "  "
   ]
  },
  {
   "cell_type": "code",
   "execution_count": 11,
   "metadata": {},
   "outputs": [
    {
     "data": {
      "text/html": [
       "<div>\n",
       "<style scoped>\n",
       "    .dataframe tbody tr th:only-of-type {\n",
       "        vertical-align: middle;\n",
       "    }\n",
       "\n",
       "    .dataframe tbody tr th {\n",
       "        vertical-align: top;\n",
       "    }\n",
       "\n",
       "    .dataframe thead th {\n",
       "        text-align: right;\n",
       "    }\n",
       "</style>\n",
       "<table border=\"1\" class=\"dataframe\">\n",
       "  <thead>\n",
       "    <tr style=\"text-align: right;\">\n",
       "      <th></th>\n",
       "      <th>tipo_de_defeito</th>\n",
       "      <th>frequencia</th>\n",
       "    </tr>\n",
       "  </thead>\n",
       "  <tbody>\n",
       "    <tr>\n",
       "      <th>0</th>\n",
       "      <td>amassado</td>\n",
       "      <td>71</td>\n",
       "    </tr>\n",
       "    <tr>\n",
       "      <th>4</th>\n",
       "      <td>numeros_errados</td>\n",
       "      <td>44</td>\n",
       "    </tr>\n",
       "    <tr>\n",
       "      <th>1</th>\n",
       "      <td>perfurado</td>\n",
       "      <td>28</td>\n",
       "    </tr>\n",
       "    <tr>\n",
       "      <th>3</th>\n",
       "      <td>caracteres_errados</td>\n",
       "      <td>20</td>\n",
       "    </tr>\n",
       "    <tr>\n",
       "      <th>2</th>\n",
       "      <td>impressao_ilegivel</td>\n",
       "      <td>12</td>\n",
       "    </tr>\n",
       "    <tr>\n",
       "      <th>5</th>\n",
       "      <td>outros</td>\n",
       "      <td>6</td>\n",
       "    </tr>\n",
       "  </tbody>\n",
       "</table>\n",
       "</div>"
      ],
      "text/plain": [
       "      tipo_de_defeito  frequencia\n",
       "0            amassado          71\n",
       "4     numeros_errados          44\n",
       "1           perfurado          28\n",
       "3  caracteres_errados          20\n",
       "2  impressao_ilegivel          12\n",
       "5              outros           6"
      ]
     },
     "execution_count": 11,
     "metadata": {},
     "output_type": "execute_result"
    }
   ],
   "source": [
    "\n",
    "df_cartoes = pd.read_csv(DADOS)\n",
    "\n",
    "df_cartoes = df_cartoes.sort_values(by=\"frequencia\",ascending=False)\n",
    "\n",
    "df_cartoes"
   ]
  },
  {
   "cell_type": "code",
   "execution_count": 12,
   "metadata": {},
   "outputs": [
    {
     "data": {
      "text/html": [
       "<div>\n",
       "<style scoped>\n",
       "    .dataframe tbody tr th:only-of-type {\n",
       "        vertical-align: middle;\n",
       "    }\n",
       "\n",
       "    .dataframe tbody tr th {\n",
       "        vertical-align: top;\n",
       "    }\n",
       "\n",
       "    .dataframe thead th {\n",
       "        text-align: right;\n",
       "    }\n",
       "</style>\n",
       "<table border=\"1\" class=\"dataframe\">\n",
       "  <thead>\n",
       "    <tr style=\"text-align: right;\">\n",
       "      <th></th>\n",
       "      <th>frequencia</th>\n",
       "      <th>frequencia_relativa</th>\n",
       "      <th>frequencia_acumulada</th>\n",
       "      <th>frequencia_relativa_acumulada</th>\n",
       "    </tr>\n",
       "  </thead>\n",
       "  <tbody>\n",
       "    <tr>\n",
       "      <th>0</th>\n",
       "      <td>71</td>\n",
       "      <td>0.392265</td>\n",
       "      <td>71</td>\n",
       "      <td>0.392265</td>\n",
       "    </tr>\n",
       "    <tr>\n",
       "      <th>4</th>\n",
       "      <td>44</td>\n",
       "      <td>0.243094</td>\n",
       "      <td>115</td>\n",
       "      <td>0.635359</td>\n",
       "    </tr>\n",
       "    <tr>\n",
       "      <th>1</th>\n",
       "      <td>28</td>\n",
       "      <td>0.154696</td>\n",
       "      <td>143</td>\n",
       "      <td>0.790055</td>\n",
       "    </tr>\n",
       "    <tr>\n",
       "      <th>3</th>\n",
       "      <td>20</td>\n",
       "      <td>0.110497</td>\n",
       "      <td>163</td>\n",
       "      <td>0.900552</td>\n",
       "    </tr>\n",
       "    <tr>\n",
       "      <th>2</th>\n",
       "      <td>12</td>\n",
       "      <td>0.066298</td>\n",
       "      <td>175</td>\n",
       "      <td>0.966851</td>\n",
       "    </tr>\n",
       "    <tr>\n",
       "      <th>5</th>\n",
       "      <td>6</td>\n",
       "      <td>0.033149</td>\n",
       "      <td>181</td>\n",
       "      <td>1.000000</td>\n",
       "    </tr>\n",
       "  </tbody>\n",
       "</table>\n",
       "</div>"
      ],
      "text/plain": [
       "   frequencia  frequencia_relativa  frequencia_acumulada  \\\n",
       "0          71             0.392265                    71   \n",
       "4          44             0.243094                   115   \n",
       "1          28             0.154696                   143   \n",
       "3          20             0.110497                   163   \n",
       "2          12             0.066298                   175   \n",
       "5           6             0.033149                   181   \n",
       "\n",
       "   frequencia_relativa_acumulada  \n",
       "0                       0.392265  \n",
       "4                       0.635359  \n",
       "1                       0.790055  \n",
       "3                       0.900552  \n",
       "2                       0.966851  \n",
       "5                       1.000000  "
      ]
     },
     "execution_count": 12,
     "metadata": {},
     "output_type": "execute_result"
    }
   ],
   "source": [
    "from funcoes_auxiliares import tabela_distribuicao_frequencias\n",
    "\n",
    "df_pareto = tabela_distribuicao_frequencias(df_cartoes, \"frequencia\", coluna_frequencia=True)\n",
    "\n",
    "df_pareto"
   ]
  },
  {
   "cell_type": "markdown",
   "metadata": {},
   "source": [
    "- Definindo um novo índice para o DataFrame df_pareto usando a coluna \"tipo_de_defeito\" "
   ]
  },
  {
   "cell_type": "code",
   "execution_count": 13,
   "metadata": {},
   "outputs": [
    {
     "data": {
      "text/html": [
       "<div>\n",
       "<style scoped>\n",
       "    .dataframe tbody tr th:only-of-type {\n",
       "        vertical-align: middle;\n",
       "    }\n",
       "\n",
       "    .dataframe tbody tr th {\n",
       "        vertical-align: top;\n",
       "    }\n",
       "\n",
       "    .dataframe thead th {\n",
       "        text-align: right;\n",
       "    }\n",
       "</style>\n",
       "<table border=\"1\" class=\"dataframe\">\n",
       "  <thead>\n",
       "    <tr style=\"text-align: right;\">\n",
       "      <th></th>\n",
       "      <th>frequencia</th>\n",
       "      <th>frequencia_relativa</th>\n",
       "      <th>frequencia_acumulada</th>\n",
       "      <th>frequencia_relativa_acumulada</th>\n",
       "    </tr>\n",
       "    <tr>\n",
       "      <th>tipo_de_defeito</th>\n",
       "      <th></th>\n",
       "      <th></th>\n",
       "      <th></th>\n",
       "      <th></th>\n",
       "    </tr>\n",
       "  </thead>\n",
       "  <tbody>\n",
       "    <tr>\n",
       "      <th>amassado</th>\n",
       "      <td>71</td>\n",
       "      <td>0.392265</td>\n",
       "      <td>71</td>\n",
       "      <td>0.392265</td>\n",
       "    </tr>\n",
       "    <tr>\n",
       "      <th>numeros_errados</th>\n",
       "      <td>44</td>\n",
       "      <td>0.243094</td>\n",
       "      <td>115</td>\n",
       "      <td>0.635359</td>\n",
       "    </tr>\n",
       "    <tr>\n",
       "      <th>perfurado</th>\n",
       "      <td>28</td>\n",
       "      <td>0.154696</td>\n",
       "      <td>143</td>\n",
       "      <td>0.790055</td>\n",
       "    </tr>\n",
       "    <tr>\n",
       "      <th>caracteres_errados</th>\n",
       "      <td>20</td>\n",
       "      <td>0.110497</td>\n",
       "      <td>163</td>\n",
       "      <td>0.900552</td>\n",
       "    </tr>\n",
       "    <tr>\n",
       "      <th>impressao_ilegivel</th>\n",
       "      <td>12</td>\n",
       "      <td>0.066298</td>\n",
       "      <td>175</td>\n",
       "      <td>0.966851</td>\n",
       "    </tr>\n",
       "    <tr>\n",
       "      <th>outros</th>\n",
       "      <td>6</td>\n",
       "      <td>0.033149</td>\n",
       "      <td>181</td>\n",
       "      <td>1.000000</td>\n",
       "    </tr>\n",
       "  </tbody>\n",
       "</table>\n",
       "</div>"
      ],
      "text/plain": [
       "                    frequencia  frequencia_relativa  frequencia_acumulada  \\\n",
       "tipo_de_defeito                                                             \n",
       "amassado                    71             0.392265                    71   \n",
       "numeros_errados             44             0.243094                   115   \n",
       "perfurado                   28             0.154696                   143   \n",
       "caracteres_errados          20             0.110497                   163   \n",
       "impressao_ilegivel          12             0.066298                   175   \n",
       "outros                       6             0.033149                   181   \n",
       "\n",
       "                    frequencia_relativa_acumulada  \n",
       "tipo_de_defeito                                    \n",
       "amassado                                 0.392265  \n",
       "numeros_errados                          0.635359  \n",
       "perfurado                                0.790055  \n",
       "caracteres_errados                       0.900552  \n",
       "impressao_ilegivel                       0.966851  \n",
       "outros                                   1.000000  "
      ]
     },
     "execution_count": 13,
     "metadata": {},
     "output_type": "execute_result"
    }
   ],
   "source": [
    "df_pareto = df_pareto.set_index(df_cartoes[\"tipo_de_defeito\"])\n",
    "df_pareto"
   ]
  },
  {
   "cell_type": "code",
   "execution_count": 14,
   "metadata": {},
   "outputs": [
    {
     "data": {
      "image/png": "[encoded data removed]",
      "text/plain": [
       "<Figure size 640x480 with 2 Axes>"
      ]
     },
     "metadata": {},
     "output_type": "display_data"
    }
   ],
   "source": [
    "import matplotlib.pyplot as plt\n",
    "import matplotlib.ticker as mtick\n",
    "\n",
    "fig, ax = plt.subplots()\n",
    "\n",
    "ax2 = ax.twinx()\n",
    "\n",
    "ax.bar(df_pareto.index, df_pareto[\"frequencia\"], color=\"C0\")\n",
    "ax2.plot(df_pareto.index, df_pareto[\"frequencia_relativa_acumulada\"], color=\"C1\")\n",
    "\n",
    "ax.set_ylabel(\"Frequência Absoluta\", color=\"C0\")\n",
    "ax.tick_params(axis=\"y\", labelcolor=\"C0\")\n",
    "ax.tick_params(axis=\"x\", rotation=90)\n",
    "\n",
    "ax2.set_ylabel(\"Frequência Relativa Acumulada\", color=\"C1\")\n",
    "ax2.tick_params(axis=\"y\", labelcolor=\"C1\")\n",
    "ax2.yaxis.set_major_formatter(mtick.PercentFormatter(1))\n",
    "\n",
    "plt.show()"
   ]
  }
 ],
 "metadata": {
  "kernelspec": {
   "display_name": "Python 3",
   "language": "python",
   "name": "python3"
  },
  "language_info": {
   "codemirror_mode": {
    "name": "ipython",
    "version": 3
   },
   "file_extension": ".py",
   "mimetype": "text/x-python",
   "name": "python",
   "nbconvert_exporter": "python",
   "pygments_lexer": "ipython3",
   "version": "3.11.9"
  }
 },
 "nbformat": 4,
 "nbformat_minor": 4
}
