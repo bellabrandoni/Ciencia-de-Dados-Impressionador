{
 "cells": [
  {
   "cell_type": "markdown",
   "metadata": {},
   "source": [
    "# Funções"
   ]
  },
  {
   "cell_type": "markdown",
   "metadata": {},
   "source": [
    "# Exemplo"
   ]
  },
  {
   "cell_type": "markdown",
   "metadata": {},
   "source": [
    "definindo que recebe determinado preço e calcula o valor de desconto e retorna o valor de desconto"
   ]
  },
  {
   "cell_type": "code",
   "execution_count": 4,
   "metadata": {},
   "outputs": [],
   "source": [
    "def calcular_valor_com_desconto(valor_original, porcentagem_desconto):\n",
    "    \"\"\"Calcula o valor com desconto de acordo com a porcentagem\n",
    "    Parameters\n",
    "    ----------\n",
    "    valor_original : float ou int\n",
    "        Valor Original do produto\n",
    "    porcentagem_desconto : float ou int\n",
    "        Valor do desconto em porcentagem\n",
    "\n",
    "Return\n",
    "-------\n",
    "float\n",
    "    Valor final do produto com desconto\n",
    "\n",
    "    \"\"\"\n",
    "    valor_desconto = valor_original * porcentagem_desconto / 100\n",
    "    valor_final = valor_original - valor_desconto\n",
    "\n",
    "    return valor_final\n",
    "\n"
   ]
  },
  {
   "cell_type": "code",
   "execution_count": 6,
   "metadata": {},
   "outputs": [
    {
     "name": "stdout",
     "output_type": "stream",
     "text": [
      "O preço final após o desconto é: R$ 180.00\n"
     ]
    }
   ],
   "source": [
    "preco_produto = 200.0  # Preço do produto\n",
    "desconto = 10  # Desconto de 10%\n",
    "\n",
    "preco_final = calcular_valor_com_desconto(preco_produto, desconto)\n",
    "print(f\"O preço final após o desconto é: R$ {preco_final:.2f}\")\n"
   ]
  },
  {
   "cell_type": "markdown",
   "metadata": {},
   "source": [
    "Passando como variaveis os mesmos parametros da função - error: name 'valor_original' is not defined\n",
    "\n",
    "- É necesário passar variaveis definidas e não os parametros de dentro da função"
   ]
  },
  {
   "cell_type": "code",
   "execution_count": null,
   "metadata": {},
   "outputs": [
    {
     "ename": "NameError",
     "evalue": "name 'valor_original' is not defined",
     "output_type": "error",
     "traceback": [
      "\u001b[1;31m---------------------------------------------------------------------------\u001b[0m",
      "\u001b[1;31mNameError\u001b[0m                                 Traceback (most recent call last)",
      "Cell \u001b[1;32mIn[7], line 4\u001b[0m\n\u001b[0;32m      1\u001b[0m preco_produto \u001b[38;5;241m=\u001b[39m \u001b[38;5;241m200.0\u001b[39m  \u001b[38;5;66;03m# Preço do produto\u001b[39;00m\n\u001b[0;32m      2\u001b[0m desconto \u001b[38;5;241m=\u001b[39m \u001b[38;5;241m10\u001b[39m  \u001b[38;5;66;03m# Desconto de 10%\u001b[39;00m\n\u001b[1;32m----> 4\u001b[0m preco_final \u001b[38;5;241m=\u001b[39m calcular_valor_com_desconto(\u001b[43mvalor_original\u001b[49m, porcentagem_desconto)\n\u001b[0;32m      5\u001b[0m \u001b[38;5;28mprint\u001b[39m(\u001b[38;5;124mf\u001b[39m\u001b[38;5;124m\"\u001b[39m\u001b[38;5;124mO preço final após o desconto é: R$ \u001b[39m\u001b[38;5;132;01m{\u001b[39;00mpreco_final\u001b[38;5;132;01m:\u001b[39;00m\u001b[38;5;124m.2f\u001b[39m\u001b[38;5;132;01m}\u001b[39;00m\u001b[38;5;124m\"\u001b[39m)\n",
      "\u001b[1;31mNameError\u001b[0m: name 'valor_original' is not defined"
     ]
    }
   ],
   "source": [
    "preco_produto = 200.0  # Preço do produto\n",
    "desconto = 10  # Desconto de 10%\n",
    "\n",
    "#Aqui, valor_original e porcentagem_desconto não foram definidos antes da chamada da função.\n",
    "preco_final = calcular_valor_com_desconto(valor_original, porcentagem_desconto)\n",
    "print(f\"O preço final após o desconto é: R$ {preco_final:.2f}\")\n"
   ]
  },
  {
   "cell_type": "code",
   "execution_count": 10,
   "metadata": {},
   "outputs": [],
   "source": [
    "# dicionário de produtos, com seus respectivos preços e descontos\n",
    "produtos = {\n",
    "    'Camisa masculina M': {'preco': 50.0, 'desconto': 10},\n",
    "    'Calça feminina P': {'preco': 100.0, 'desconto': 5},\n",
    "    'Mochila': {'preco': 150.0, 'desconto': 15},\n",
    "    'Relógio': {'preco': 200.0, 'desconto': 20},\n",
    "}\n"
   ]
  },
  {
   "cell_type": "code",
   "execution_count": 12,
   "metadata": {},
   "outputs": [
    {
     "name": "stdout",
     "output_type": "stream",
     "text": [
      "O preço final de Camisa masculina M é R$ 180.00\n",
      "O preço final de Calça feminina P é R$ 180.00\n",
      "O preço final de Mochila é R$ 180.00\n",
      "O preço final de Relógio é R$ 180.00\n"
     ]
    }
   ],
   "source": [
    "for nome_produto, dados_produto in produtos.items():\n",
    "    produto_final = calcular_valor_com_desconto(dados_produto[\"preco\"], dados_produto[\"desconto\"])\n",
    "\n",
    "    print(f\"O preço final de {nome_produto} é R$ {preco_final:.2f}\")"
   ]
  }
 ],
 "metadata": {
  "kernelspec": {
   "display_name": "Python 3",
   "language": "python",
   "name": "python3"
  },
  "language_info": {
   "codemirror_mode": {
    "name": "ipython",
    "version": 3
   },
   "file_extension": ".py",
   "mimetype": "text/x-python",
   "name": "python",
   "nbconvert_exporter": "python",
   "pygments_lexer": "ipython3",
   "version": "3.11.9"
  }
 },
 "nbformat": 4,
 "nbformat_minor": 4
}
