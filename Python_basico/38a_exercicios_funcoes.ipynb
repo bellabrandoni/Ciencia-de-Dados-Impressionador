{
 "cells": [
  {
   "cell_type": "markdown",
   "metadata": {},
   "source": [
    "# Exercício 1"
   ]
  },
  {
   "cell_type": "markdown",
   "metadata": {},
   "source": [
    "Escreva uma função `aumento_salarial` que recebe o salário atual de um funcionário e a porcentagem de aumento, retornando o novo salário."
   ]
  },
  {
   "cell_type": "code",
   "execution_count": 7,
   "metadata": {},
   "outputs": [],
   "source": [
    "def aumenta_salario(salario_atual, porcentagem_aumento) :\n",
    "\n",
    "    valor_aumento = salario_atual * (porcentagem_aumento) / 100\n",
    "    novo_salario = salario_atual + valor_aumento\n",
    "    return novo_salario"
   ]
  },
  {
   "cell_type": "code",
   "execution_count": 10,
   "metadata": {},
   "outputs": [
    {
     "name": "stdout",
     "output_type": "stream",
     "text": [
      "O salario final com aumento é de 220.00\n"
     ]
    }
   ],
   "source": [
    "salario = 200.0\n",
    "porcentagem = 10\n",
    "\n",
    "resultado = aumenta_salario(salario, porcentagem)\n",
    "print(f\"O salario final com aumento é de {resultado:.2f}\")"
   ]
  },
  {
   "cell_type": "markdown",
   "metadata": {},
   "source": [
    "# Exercício 2"
   ]
  },
  {
   "cell_type": "markdown",
   "metadata": {},
   "source": [
    " Crie uma função `normalizar_numeros` que recebe uma lista de números e retorna uma nova lista com os valores normalizados entre 0 e 1."
   ]
  },
  {
   "cell_type": "code",
   "execution_count": 22,
   "metadata": {},
   "outputs": [
    {
     "name": "stdout",
     "output_type": "stream",
     "text": [
      "[0.0, 0.2, 0.4, 0.6, 0.8, 1.0]\n"
     ]
    }
   ],
   "source": [
    "\n",
    "def normalizar_numeros(numeros):\n",
    "\n",
    "    min_val = min(numeros)\n",
    "    max_val = max(numeros)\n",
    "\n",
    "    valores_normalizados = [(valor - min_val) / (max_val - min_val) for valor in numeros]\n",
    "\n",
    "    return valores_normalizados\n",
    "\n",
    "print(normalizar_numeros([0, 1, 2, 3, 4, 5]))"
   ]
  },
  {
   "cell_type": "markdown",
   "metadata": {},
   "source": [
    "# Exercício 3"
   ]
  },
  {
   "cell_type": "markdown",
   "metadata": {},
   "source": [
    "Escreva uma função gerar_email_corporativo que recebe um nome completo e retorna um email no formato \"nome.ultimonome@empresa.com\"."
   ]
  },
  {
   "cell_type": "code",
   "execution_count": null,
   "metadata": {},
   "outputs": [],
   "source": [
    "def gerar_email_corporativo(nome_completo):\n",
    "    #Convertndo com .lower todas as letras do nome para minúsculas.\n",
    "    #.split()Divide a string em palavras usando os espaços como separadores.\n",
    "    separar_partes = nome_completo.lower().split()\n",
    "    #parte[0] = primeiro nomes parte[1]segundo nome\n",
    "    email = f\"{separar_partes[0]}.{separar_partes[-1]}@empresas.com\"\n",
    "\n",
    "    return email"
   ]
  },
  {
   "cell_type": "code",
   "execution_count": 19,
   "metadata": {},
   "outputs": [
    {
     "name": "stdout",
     "output_type": "stream",
     "text": [
      "O email gerado é: isabella.brandao@empresa.com\n"
     ]
    }
   ],
   "source": [
    "novo_nome  =  \"Isabella Brandao\"\n",
    "\n",
    "novo_email = gerar_email_corporativo(novo_nome)\n",
    "\n",
    "print(f\"O email gerado é: {novo_email}\")\n"
   ]
  },
  {
   "cell_type": "markdown",
   "metadata": {},
   "source": [
    "# Exercício 4"
   ]
  },
  {
   "cell_type": "markdown",
   "metadata": {},
   "source": [
    "Dada uma lista de valores de compras dos clientes, escreva uma função `segmentar_clientes` que classifica cada cliente como 'alto', 'médio' ou 'baixo' valor de compra, baseando-se em limites predefinidos para as segmentações e retorne uma lista de segmentações correspondentes. Assume-se que 'alto' é acima de 500, 'médio' entre 200 e 500, e 'baixo' abaixo de 200."
   ]
  },
  {
   "cell_type": "code",
   "execution_count": 23,
   "metadata": {},
   "outputs": [],
   "source": [
    "\n",
    "def segmentar_clientes(valores_compras):\n",
    "    segmentos = []\n",
    "\n",
    "    for valor in valores_compras:\n",
    "        if valor > 500:\n",
    "            segmentos.append(\"alto\")\n",
    "        elif valor >= 200:\n",
    "            segmentos.append(\"medio\")\n",
    "        else:\n",
    "            segmentos.append(\"baixo\")\n",
    "\n",
    "    return segmentos\n",
    "\n"
   ]
  },
  {
   "cell_type": "code",
   "execution_count": 24,
   "metadata": {},
   "outputs": [
    {
     "data": {
      "text/plain": [
       "['baixo', 'medio', 'alto', 'baixo', 'medio']"
      ]
     },
     "execution_count": 24,
     "metadata": {},
     "output_type": "execute_result"
    }
   ],
   "source": [
    "compras = [100, 250, 550, 150, 450]\n",
    "\n",
    "segmentar_clientes(compras)"
   ]
  },
  {
   "cell_type": "markdown",
   "metadata": {},
   "source": [
    "# Exercício 5"
   ]
  },
  {
   "cell_type": "markdown",
   "metadata": {},
   "source": [
    "Crie uma função `verifica_email` que recebe um email e retorna um booleano a depender se o email tem ou não o domínio \"@empresa.com\".\n",
    "\n",
    "Aplique a função para cada email da lista `emails` e retorne a lista de booleanos correspondentes."
   ]
  },
  {
   "cell_type": "code",
   "execution_count": 26,
   "metadata": {},
   "outputs": [],
   "source": [
    "emails = ['joao@empresa.com', 'maria@mail.com', 'jose@empresa.com', 'andre@abc.com']\n",
    "def verifica_email(email):\n",
    "\n",
    "\n",
    "    return email.endswith('@empresa.com')"
   ]
  },
  {
   "cell_type": "code",
   "execution_count": 27,
   "metadata": {},
   "outputs": [
    {
     "name": "stdout",
     "output_type": "stream",
     "text": [
      "True\n",
      "False\n",
      "True\n",
      "False\n"
     ]
    }
   ],
   "source": [
    "for email in emails:\n",
    "    print(verifica_email(email))"
   ]
  }
 ],
 "metadata": {
  "kernelspec": {
   "display_name": "Python 3",
   "language": "python",
   "name": "python3"
  },
  "language_info": {
   "codemirror_mode": {
    "name": "ipython",
    "version": 3
   },
   "file_extension": ".py",
   "mimetype": "text/x-python",
   "name": "python",
   "nbconvert_exporter": "python",
   "pygments_lexer": "ipython3",
   "version": "3.11.9"
  }
 },
 "nbformat": 4,
 "nbformat_minor": 4
}
