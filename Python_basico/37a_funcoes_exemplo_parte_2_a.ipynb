{
 "cells": [
  {
   "cell_type": "markdown",
   "metadata": {},
   "source": [
    "# Funções"
   ]
  },
  {
   "cell_type": "markdown",
   "metadata": {},
   "source": [
    "# Exemplo"
   ]
  },
  {
   "cell_type": "markdown",
   "metadata": {},
   "source": [
    "Passando parametro com valor padrão"
   ]
  },
  {
   "cell_type": "code",
   "execution_count": 1,
   "metadata": {},
   "outputs": [],
   "source": [
    "def calcular_valor_com_desconto(valor_original, porcentagem_desconto = 5):\n",
    "    \"\"\"Calcula o valor com desconto de acordo com a porcentagem\n",
    "\n",
    "    Parameters\n",
    "    ----------\n",
    "    valor_original : float ou int\n",
    "        Valor original do produto\n",
    "    porcentagem_desconto : float ou int (opcional)\n",
    "        Valor do desconto em porcentagem. O valor padrão é 5%\n",
    "\n",
    "    Returns\n",
    "    -------\n",
    "    float\n",
    "        Valor final do produto com desconto\n",
    "    \"\"\"\n",
    "    valor_desconto = valor_original * (porcentagem_desconto / 100)\n",
    "    valor_final = valor_original - valor_desconto\n",
    "    return valor_final\n"
   ]
  },
  {
   "cell_type": "code",
   "execution_count": 3,
   "metadata": {},
   "outputs": [
    {
     "name": "stdout",
     "output_type": "stream",
     "text": [
      "O preço final após o desconto é: R$ 190.00\n"
     ]
    }
   ],
   "source": [
    "preco_produto = 200.0  # Preço do produto\n",
    "#desconto = 10  # Desconto de 10%\n",
    "\n",
    "\n",
    "#preco_final = calcular_valor_com_desconto(preco_produto, desconto)\n",
    "\n",
    "preco_final = calcular_valor_com_desconto(preco_produto)\n",
    "\n",
    "print(f\"O preço final após o desconto é: R$ {preco_final:.2f}\")\n"
   ]
  },
  {
   "cell_type": "code",
   "execution_count": null,
   "metadata": {},
   "outputs": [
    {
     "name": "stdout",
     "output_type": "stream",
     "text": [
      "O preço final de Camisa masculina M é: R$ 45.00\n",
      "O preço final de Calça feminina P é: R$ 95.00\n",
      "O preço final de Mochila é: R$ 127.50\n",
      "O preço final de Relógio é: R$ 160.00\n"
     ]
    }
   ],
   "source": [
    "# dicionário de produtos, com seus respectivos preços e descontos\n",
    "produtos = {\n",
    "    'Camisa masculina M': {'preco': 50.0, 'desconto': 10},\n",
    "    'Calça feminina P': {'preco': 100.0, 'desconto': 5},\n",
    "    'Mochila': {'preco': 150.0, 'desconto': 15},\n",
    "    'Relógio': {'preco': 200.0, 'desconto': 20},\n",
    "}\n",
    "\n",
    "#deixando mais implicito o que cada variavel faz na função\n",
    "#criando variaveis com os memos nomes dos parametros da função  \n",
    "\n",
    "for nome_produto, dados_produto in produtos.items():\n",
    "    preco_final = calcular_valor_com_desconto(\n",
    "        valor_original= dados_produto['preco'],\n",
    "        porcentagem_desconto= dados_produto['desconto'])\n",
    "    print(f\"O preço final de {nome_produto} é: R$ {preco_final:.2f}\")"
   ]
  }
 ],
 "metadata": {
  "kernelspec": {
   "display_name": "Python 3",
   "language": "python",
   "name": "python3"
  },
  "language_info": {
   "codemirror_mode": {
    "name": "ipython",
    "version": 3
   },
   "file_extension": ".py",
   "mimetype": "text/x-python",
   "name": "python",
   "nbconvert_exporter": "python",
   "pygments_lexer": "ipython3",
   "version": "3.11.9"
  }
 },
 "nbformat": 4,
 "nbformat_minor": 4
}
