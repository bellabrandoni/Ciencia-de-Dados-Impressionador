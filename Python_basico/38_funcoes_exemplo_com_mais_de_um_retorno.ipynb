{
 "cells": [
  {
   "cell_type": "markdown",
   "metadata": {},
   "source": [
    "# Funções"
   ]
  },
  {
   "cell_type": "markdown",
   "metadata": {},
   "source": [
    "# Exemplo"
   ]
  },
  {
   "cell_type": "markdown",
   "metadata": {},
   "source": [
    "-  criando retorno para dar valor monetário do desconto"
   ]
  },
  {
   "cell_type": "code",
   "execution_count": 18,
   "metadata": {},
   "outputs": [],
   "source": [
    "def calcular_valor_com_desconto(valor_original, porcentagem_desconto):\n",
    "    \"\"\"Calcula o valor com desconto de acordo com a porcentagem\n",
    "\n",
    "    Parameters\n",
    "    ----------\n",
    "    valor_original : float ou int\n",
    "        Valor original do produto\n",
    "    porcentagem_desconto : float ou int\n",
    "        Valor do desconto em porcentagem\n",
    "\n",
    "    Returns\n",
    "    -------\n",
    "    tuple(mais de um retorno - se torna uma tupla) tipo float \n",
    "        Valor final do produto com desconto e valor do desconto\n",
    "    \"\"\"\n",
    "    valor_desconto = valor_original * (porcentagem_desconto / 100)\n",
    "    valor_final = valor_original - valor_desconto\n",
    "    return valor_final, valor_desconto\n"
   ]
  },
  {
   "cell_type": "code",
   "execution_count": 12,
   "metadata": {},
   "outputs": [
    {
     "name": "stdout",
     "output_type": "stream",
     "text": [
      "O preço final é: R$ 180.00. Desconto de R$ 20.00\n"
     ]
    }
   ],
   "source": [
    "preco_produto = 200.0  # Preço do produto\n",
    "desconto = 10  # Desconto de 10%\n",
    "\n",
    "#preco_final = calcular_valor_com_desconto(preco_produto, desconto)\n",
    "\n",
    "#mudando de preco_final para resultado\n",
    "resultado = calcular_valor_com_desconto(preco_produto, desconto)\n",
    "\n",
    "#unpacking \n",
    "#preco_final, desconto_reais = resultado \n",
    "#criando as duas variaveis e atribuindo a função\n",
    "preco_final, desconto_reais = calcular_valor_com_desconto(preco_produto, desconto)\n",
    "\n",
    "print(f\"O preço final é: R$ {preco_final:.2f}. Desconto de R$ {desconto_reais:.2f}\")\n",
    "#printando preco final e valor do desconto\n",
    "#print(resultado)"
   ]
  },
  {
   "cell_type": "code",
   "execution_count": 9,
   "metadata": {},
   "outputs": [
    {
     "name": "stdout",
     "output_type": "stream",
     "text": [
      "180.0\n",
      "20.0\n"
     ]
    }
   ],
   "source": [
    "print(preco_final)\n",
    "print(desconto_reais)"
   ]
  },
  {
   "cell_type": "code",
   "execution_count": 21,
   "metadata": {},
   "outputs": [
    {
     "name": "stdout",
     "output_type": "stream",
     "text": [
      "O preço final de Camisa masculina M é: R$ 45.00. Desconto de R$ 5.00\n",
      "O preço final de Calça feminina P é: R$ 95.00. Desconto de R$ 5.00\n",
      "O preço final de Mochila é: R$ 127.50. Desconto de R$ 22.50\n",
      "O preço final de Relógio é: R$ 160.00. Desconto de R$ 40.00\n"
     ]
    }
   ],
   "source": [
    "# dicionário de produtos, com seus respectivos preços e descontos\n",
    "produtos = {\n",
    "    'Camisa masculina M': {'preco': 50.0, 'desconto': 10},\n",
    "    'Calça feminina P': {'preco': 100.0, 'desconto': 5},\n",
    "    'Mochila': {'preco': 150.0, 'desconto': 15},\n",
    "    'Relógio': {'preco': 200.0, 'desconto': 20},\n",
    "}\n",
    "\n",
    "\n",
    "\n",
    "for nome_produto, dados_produto in produtos.items():\n",
    "    preco_final, desconto = calcular_valor_com_desconto(dados_produto['preco'], dados_produto['desconto'])\n",
    "    print(f\"O preço final de {nome_produto} é: R$ {preco_final:.2f}. Desconto de R$ {desconto:.2f}\")"
   ]
  },
  {
   "cell_type": "code",
   "execution_count": null,
   "metadata": {},
   "outputs": [],
   "source": []
  }
 ],
 "metadata": {
  "kernelspec": {
   "display_name": "Python 3",
   "language": "python",
   "name": "python3"
  },
  "language_info": {
   "codemirror_mode": {
    "name": "ipython",
    "version": 3
   },
   "file_extension": ".py",
   "mimetype": "text/x-python",
   "name": "python",
   "nbconvert_exporter": "python",
   "pygments_lexer": "ipython3",
   "version": "3.11.9"
  }
 },
 "nbformat": 4,
 "nbformat_minor": 4
}
